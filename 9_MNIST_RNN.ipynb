{
  "nbformat": 4,
  "nbformat_minor": 0,
  "metadata": {
    "colab": {
      "name": "9.MNIST_RNN",
      "provenance": []
    },
    "kernelspec": {
      "name": "python3",
      "display_name": "Python 3"
    }
  },
  "cells": [
    {
      "cell_type": "code",
      "metadata": {
        "id": "y9RwhM9KeWKa",
        "colab_type": "code",
        "colab": {
          "base_uri": "https://localhost:8080/",
          "height": 994
        },
        "outputId": "dee636ba-2dca-4d42-91b7-63553ea2a384"
      },
      "source": [
        "from keras.datasets import mnist\n",
        "from keras.layers import Dense, LSTM\n",
        "from keras.utils import to_categorical\n",
        "from keras.models import Sequential\n",
        "\n",
        "#parameters for LSTM\n",
        "nb_lstm_outputs = 30  \n",
        "nb_time_steps = 28  \n",
        "nb_input_vector = 28 \n",
        "\n",
        "#data preprocessing: tofloat32, normalization, one_hot encoding\n",
        "(x_train, y_train), (x_test, y_test) = mnist.load_data()\n",
        "x_train = x_train.astype('float32')\n",
        "x_test = x_test.astype('float32')\n",
        "x_train /= 255\n",
        "x_test /= 255\n",
        " \n",
        "y_train = to_categorical(y_train, num_classes=10)\n",
        "y_test = to_categorical(y_test, num_classes=10)\n",
        "\n",
        "#build model\n",
        "model = Sequential()\n",
        "model.add(LSTM(units=nb_lstm_outputs, input_shape=(nb_time_steps, nb_input_vector)))\n",
        "model.add(Dense(10, activation='softmax'))\n",
        "\n",
        "#compile:loss, optimizer, metrics\n",
        "model.compile(loss='categorical_crossentropy', optimizer='adam', metrics=['accuracy'])\n",
        "#train: epcoch, batch_size\n",
        "model.fit(x_train, y_train, epochs=20, batch_size=128, verbose=1)\n",
        "\n",
        "model.summary()\n",
        "\n",
        "score = model.evaluate(x_test, y_test,batch_size=128, verbose=1)\n",
        "print(score)"
      ],
      "execution_count": 1,
      "outputs": [
        {
          "output_type": "stream",
          "text": [
            "Using TensorFlow backend.\n"
          ],
          "name": "stderr"
        },
        {
          "output_type": "stream",
          "text": [
            "Downloading data from https://s3.amazonaws.com/img-datasets/mnist.npz\n",
            "11493376/11490434 [==============================] - 0s 0us/step\n",
            "Epoch 1/20\n",
            "60000/60000 [==============================] - 10s 173us/step - loss: 0.9822 - accuracy: 0.6939\n",
            "Epoch 2/20\n",
            "60000/60000 [==============================] - 10s 169us/step - loss: 0.3133 - accuracy: 0.9086\n",
            "Epoch 3/20\n",
            "60000/60000 [==============================] - 10s 167us/step - loss: 0.2129 - accuracy: 0.9388\n",
            "Epoch 4/20\n",
            "60000/60000 [==============================] - 10s 167us/step - loss: 0.1724 - accuracy: 0.9504\n",
            "Epoch 5/20\n",
            "60000/60000 [==============================] - 10s 166us/step - loss: 0.1467 - accuracy: 0.9578\n",
            "Epoch 6/20\n",
            "60000/60000 [==============================] - 10s 166us/step - loss: 0.1275 - accuracy: 0.9621\n",
            "Epoch 7/20\n",
            "60000/60000 [==============================] - 10s 165us/step - loss: 0.1149 - accuracy: 0.9661\n",
            "Epoch 8/20\n",
            "60000/60000 [==============================] - 10s 166us/step - loss: 0.1048 - accuracy: 0.9694\n",
            "Epoch 9/20\n",
            "60000/60000 [==============================] - 10s 166us/step - loss: 0.0978 - accuracy: 0.9705\n",
            "Epoch 10/20\n",
            "60000/60000 [==============================] - 10s 166us/step - loss: 0.0897 - accuracy: 0.9734\n",
            "Epoch 11/20\n",
            "60000/60000 [==============================] - 10s 166us/step - loss: 0.0842 - accuracy: 0.9750\n",
            "Epoch 12/20\n",
            "60000/60000 [==============================] - 10s 167us/step - loss: 0.0788 - accuracy: 0.9761\n",
            "Epoch 13/20\n",
            "60000/60000 [==============================] - 10s 164us/step - loss: 0.0732 - accuracy: 0.9781\n",
            "Epoch 14/20\n",
            "60000/60000 [==============================] - 10s 165us/step - loss: 0.0711 - accuracy: 0.9787\n",
            "Epoch 15/20\n",
            "60000/60000 [==============================] - 10s 166us/step - loss: 0.0670 - accuracy: 0.9798\n",
            "Epoch 16/20\n",
            "60000/60000 [==============================] - 10s 167us/step - loss: 0.0625 - accuracy: 0.9811\n",
            "Epoch 17/20\n",
            "60000/60000 [==============================] - 10s 166us/step - loss: 0.0612 - accuracy: 0.9811\n",
            "Epoch 18/20\n",
            "60000/60000 [==============================] - 10s 166us/step - loss: 0.0572 - accuracy: 0.9826\n",
            "Epoch 19/20\n",
            "60000/60000 [==============================] - 10s 167us/step - loss: 0.0552 - accuracy: 0.9831\n",
            "Epoch 20/20\n",
            "60000/60000 [==============================] - 10s 165us/step - loss: 0.0524 - accuracy: 0.9841\n",
            "Model: \"sequential_1\"\n",
            "_________________________________________________________________\n",
            "Layer (type)                 Output Shape              Param #   \n",
            "=================================================================\n",
            "lstm_1 (LSTM)                (None, 30)                7080      \n",
            "_________________________________________________________________\n",
            "dense_1 (Dense)              (None, 10)                310       \n",
            "=================================================================\n",
            "Total params: 7,390\n",
            "Trainable params: 7,390\n",
            "Non-trainable params: 0\n",
            "_________________________________________________________________\n",
            "10000/10000 [==============================] - 0s 50us/step\n",
            "[0.06500452893301845, 0.9811000227928162]\n"
          ],
          "name": "stdout"
        }
      ]
    }
  ]
}