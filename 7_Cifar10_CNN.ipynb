{
  "nbformat": 4,
  "nbformat_minor": 0,
  "metadata": {
    "colab": {
      "name": "7.Cifar10_CNN",
      "provenance": []
    },
    "kernelspec": {
      "name": "python3",
      "display_name": "Python 3"
    }
  },
  "cells": [
    {
      "cell_type": "code",
      "metadata": {
        "id": "kP7HX-BLN1uo",
        "colab_type": "code",
        "outputId": "11a301ca-e81c-4ca5-9b9f-331b5f0b6565",
        "colab": {
          "base_uri": "https://localhost:8080/",
          "height": 1000
        }
      },
      "source": [
        "from keras.datasets import cifar10\n",
        "\n",
        "(x_train, y_train_), (x_test, y_test_) = cifar10.load_data()\n",
        "\n",
        "x_train = x_train.astype('float32') / 255\n",
        "x_test = x_test.astype('float32') / 255\n",
        "\n",
        "from keras.utils import to_categorical\n",
        "y_train = to_categorical(y_train_)\n",
        "y_test = to_categorical(y_test_)\n",
        "\n",
        "\"\"\"## Model Definition\"\"\"\n",
        "\n",
        "from keras.models import Sequential\n",
        "model = Sequential()\n",
        "\n",
        "from keras.layers import Conv2D, MaxPool2D, Flatten, Dense\n",
        "\n",
        "model.add(Conv2D(filters=32, \n",
        "                kernel_size=(3, 3),\n",
        "                activation='relu',\n",
        "                input_shape=(32, 32, 3)))\n",
        "\n",
        "model.add(MaxPool2D())\n",
        "\n",
        "model.add(Conv2D(filters=64,\n",
        "                kernel_size=(3, 3),\n",
        "                activation='relu'))\n",
        "model.add(MaxPool2D())\n",
        "\n",
        "model.add(Flatten())\n",
        "model.add(Dense(10, activation='softmax'))\n",
        "\n",
        "model.compile(optimizer='adam',\n",
        "             loss='categorical_crossentropy',\n",
        "             metrics=['accuracy'])\n",
        "\n",
        "print(model.summary())\n",
        "\n",
        "\"\"\"## Fitting\"\"\"\n",
        "\n",
        "history = model.fit(x_train, y_train, batch_size=50, epochs=15, verbose=1, validation_data=(x_test, y_test))\n",
        "\n",
        "import matplotlib.pyplot as plt\n",
        "\n",
        "history_dict = history.history\n",
        "loss_values = history_dict['loss']\n",
        "val_loss_values = history_dict['val_loss']\n",
        "\n",
        "epochs = range(1, len(history_dict['accuracy']) + 1)\n",
        "\n",
        "plt.plot(epochs, loss_values, 'bo', label='Training loss')\n",
        "plt.plot(epochs, val_loss_values, 'b', label='Validation loss')\n",
        "plt.title('Training and validation loss')\n",
        "plt.xlabel('Epochs')\n",
        "plt.ylabel('Loss')\n",
        "plt.legend()\n",
        "\n",
        "plt.show()"
      ],
      "execution_count": 0,
      "outputs": [
        {
          "output_type": "stream",
          "text": [
            "Using TensorFlow backend.\n"
          ],
          "name": "stderr"
        },
        {
          "output_type": "stream",
          "text": [
            "Downloading data from https://www.cs.toronto.edu/~kriz/cifar-10-python.tar.gz\n",
            "170500096/170498071 [==============================] - 6s 0us/step\n",
            "Model: \"sequential_1\"\n",
            "_________________________________________________________________\n",
            "Layer (type)                 Output Shape              Param #   \n",
            "=================================================================\n",
            "conv2d_1 (Conv2D)            (None, 30, 30, 32)        896       \n",
            "_________________________________________________________________\n",
            "max_pooling2d_1 (MaxPooling2 (None, 15, 15, 32)        0         \n",
            "_________________________________________________________________\n",
            "conv2d_2 (Conv2D)            (None, 13, 13, 64)        18496     \n",
            "_________________________________________________________________\n",
            "max_pooling2d_2 (MaxPooling2 (None, 6, 6, 64)          0         \n",
            "_________________________________________________________________\n",
            "flatten_1 (Flatten)          (None, 2304)              0         \n",
            "_________________________________________________________________\n",
            "dense_1 (Dense)              (None, 10)                23050     \n",
            "=================================================================\n",
            "Total params: 42,442\n",
            "Trainable params: 42,442\n",
            "Non-trainable params: 0\n",
            "_________________________________________________________________\n",
            "None\n",
            "Train on 50000 samples, validate on 10000 samples\n",
            "Epoch 1/15\n",
            "50000/50000 [==============================] - 58s 1ms/step - loss: 1.5343 - accuracy: 0.4548 - val_loss: 1.2889 - val_accuracy: 0.5463\n",
            "Epoch 2/15\n",
            "50000/50000 [==============================] - 57s 1ms/step - loss: 1.2010 - accuracy: 0.5827 - val_loss: 1.1304 - val_accuracy: 0.6103\n",
            "Epoch 3/15\n",
            "50000/50000 [==============================] - 57s 1ms/step - loss: 1.0668 - accuracy: 0.6302 - val_loss: 1.0864 - val_accuracy: 0.6228\n",
            "Epoch 4/15\n",
            "50000/50000 [==============================] - 57s 1ms/step - loss: 0.9827 - accuracy: 0.6601 - val_loss: 0.9744 - val_accuracy: 0.6598\n",
            "Epoch 5/15\n",
            "50000/50000 [==============================] - 57s 1ms/step - loss: 0.9276 - accuracy: 0.6828 - val_loss: 0.9834 - val_accuracy: 0.6617\n",
            "Epoch 6/15\n",
            "50000/50000 [==============================] - 56s 1ms/step - loss: 0.8830 - accuracy: 0.6969 - val_loss: 0.9648 - val_accuracy: 0.6696\n",
            "Epoch 7/15\n",
            "50000/50000 [==============================] - 56s 1ms/step - loss: 0.8463 - accuracy: 0.7080 - val_loss: 0.9468 - val_accuracy: 0.6729\n",
            "Epoch 8/15\n",
            "50000/50000 [==============================] - 56s 1ms/step - loss: 0.8143 - accuracy: 0.7208 - val_loss: 0.9348 - val_accuracy: 0.6782\n",
            "Epoch 9/15\n",
            "50000/50000 [==============================] - 56s 1ms/step - loss: 0.7889 - accuracy: 0.7296 - val_loss: 0.9170 - val_accuracy: 0.6880\n",
            "Epoch 10/15\n",
            "50000/50000 [==============================] - 56s 1ms/step - loss: 0.7630 - accuracy: 0.7376 - val_loss: 0.9722 - val_accuracy: 0.6707\n",
            "Epoch 11/15\n",
            "50000/50000 [==============================] - 57s 1ms/step - loss: 0.7444 - accuracy: 0.7435 - val_loss: 0.9157 - val_accuracy: 0.6925\n",
            "Epoch 12/15\n",
            "50000/50000 [==============================] - 57s 1ms/step - loss: 0.7259 - accuracy: 0.7480 - val_loss: 0.9293 - val_accuracy: 0.6864\n",
            "Epoch 13/15\n",
            "50000/50000 [==============================] - 56s 1ms/step - loss: 0.7029 - accuracy: 0.7592 - val_loss: 0.9400 - val_accuracy: 0.6800\n",
            "Epoch 14/15\n",
            "50000/50000 [==============================] - 56s 1ms/step - loss: 0.6866 - accuracy: 0.7631 - val_loss: 0.9159 - val_accuracy: 0.6924\n",
            "Epoch 15/15\n",
            "50000/50000 [==============================] - 56s 1ms/step - loss: 0.6748 - accuracy: 0.7674 - val_loss: 0.9221 - val_accuracy: 0.6910\n"
          ],
          "name": "stdout"
        },
        {
          "output_type": "display_data",
          "data": {
            "image/png": "[encoded data removed]",
            "text/plain": [
              "<Figure size 432x288 with 1 Axes>"
            ]
          },
          "metadata": {
            "tags": [],
            "needs_background": "light"
          }
        }
      ]
    }
  ]
}