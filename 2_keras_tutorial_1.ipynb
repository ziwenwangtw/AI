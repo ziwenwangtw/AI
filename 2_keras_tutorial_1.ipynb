{
  "nbformat": 4,
  "nbformat_minor": 0,
  "metadata": {
    "colab": {
      "name": "2. keras tutorial 1",
      "provenance": []
    },
    "kernelspec": {
      "name": "python3",
      "display_name": "Python 3"
    }
  },
  "cells": [
    {
      "cell_type": "code",
      "metadata": {
        "id": "nqRjXSWKl2IG",
        "colab_type": "code",
        "colab": {
          "base_uri": "https://localhost:8080/",
          "height": 493
        },
        "outputId": "d3a2c3ef-1370-471e-f114-c846bddc08ad"
      },
      "source": [
        "import keras\n",
        "from keras.models import Sequential\n",
        "from keras.layers import Dense\n",
        "\n",
        "import numpy as np\n",
        "data = np.random.random((1000, 10)) #隨機產生1000筆資料，每筆資料1包含十個float數字\n",
        "labels = np.random.randint(2, size=(1000, 1)) #隨機產生1000筆資料，每筆資料上限為2(意思就是0 或 1)\n",
        "print(np.shape(data))\n",
        "print(data[0])\n",
        "print(np.shape(labels))\n",
        "print(labels[0])\n",
        "\n",
        "model = Sequential()\n",
        "model.add(Dense(32, activation='relu', input_dim=10))\n",
        "model.add(Dense(1, activation='sigmoid'))\n",
        "model.compile(optimizer='rmsprop', loss='binary_crossentropy', metrics=['accuracy'])\n",
        "\n",
        "model.fit(data, labels, epochs=10, batch_size=32)\n",
        "\n",
        "score=model.evaluate(data, labels)\n",
        "print(score[1])"
      ],
      "execution_count": 1,
      "outputs": [
        {
          "output_type": "stream",
          "text": [
            "Using TensorFlow backend.\n"
          ],
          "name": "stderr"
        },
        {
          "output_type": "stream",
          "text": [
            "(1000, 10)\n",
            "[0.47547012 0.50800601 0.82083836 0.93849735 0.39120381 0.18168796\n",
            " 0.3678869  0.46479273 0.0428333  0.11844238]\n",
            "(1000, 1)\n",
            "[1]\n",
            "Epoch 1/10\n",
            "1000/1000 [==============================] - 0s 317us/step - loss: 0.7363 - accuracy: 0.4910\n",
            "Epoch 2/10\n",
            "1000/1000 [==============================] - 0s 37us/step - loss: 0.6989 - accuracy: 0.5090\n",
            "Epoch 3/10\n",
            "1000/1000 [==============================] - 0s 35us/step - loss: 0.6948 - accuracy: 0.5040\n",
            "Epoch 4/10\n",
            "1000/1000 [==============================] - 0s 37us/step - loss: 0.6942 - accuracy: 0.5030\n",
            "Epoch 5/10\n",
            "1000/1000 [==============================] - 0s 39us/step - loss: 0.6931 - accuracy: 0.5220\n",
            "Epoch 6/10\n",
            "1000/1000 [==============================] - 0s 38us/step - loss: 0.6928 - accuracy: 0.5110\n",
            "Epoch 7/10\n",
            "1000/1000 [==============================] - 0s 36us/step - loss: 0.6921 - accuracy: 0.5310\n",
            "Epoch 8/10\n",
            "1000/1000 [==============================] - 0s 38us/step - loss: 0.6917 - accuracy: 0.5290\n",
            "Epoch 9/10\n",
            "1000/1000 [==============================] - 0s 38us/step - loss: 0.6914 - accuracy: 0.5170\n",
            "Epoch 10/10\n",
            "1000/1000 [==============================] - 0s 37us/step - loss: 0.6907 - accuracy: 0.5410\n",
            "1000/1000 [==============================] - 0s 38us/step\n",
            "0.5490000247955322\n"
          ],
          "name": "stdout"
        }
      ]
    }
  ]
}