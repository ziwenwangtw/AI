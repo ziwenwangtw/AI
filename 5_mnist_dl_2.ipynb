{
  "nbformat": 4,
  "nbformat_minor": 0,
  "metadata": {
    "colab": {
      "name": "5. mnist dl 2",
      "provenance": []
    },
    "kernelspec": {
      "name": "python3",
      "display_name": "Python 3"
    }
  },
  "cells": [
    {
      "cell_type": "code",
      "metadata": {
        "id": "L5kOlmBOn3xI",
        "colab_type": "code",
        "colab": {
          "base_uri": "https://localhost:8080/",
          "height": 734
        },
        "outputId": "10028dbd-625d-434c-cf7d-87723d9a638b"
      },
      "source": [
        "import keras\n",
        "from keras.datasets import mnist\n",
        "from keras.models import Sequential\n",
        "from keras.layers import Dense, Dropout, LeakyReLU, Conv2D\n",
        "from keras.optimizers import RMSprop\n",
        "from keras import backend as K\n",
        "from matplotlib.pyplot import imshow\n",
        "import numpy as np\n",
        "\n",
        "\n",
        "(x_train, y_train), (x_test, y_test) = mnist.load_data()\n",
        "num_classes = 10\n",
        "\n",
        "x_train = x_train.reshape(60000, 784)\n",
        "x_test = x_test.reshape(10000, 784)\n",
        "x_train = x_train.astype('float32')\n",
        "x_test = x_test.astype('float32')\n",
        "x_train /= 255\n",
        "x_test /= 255\n",
        "print(x_train.shape[0], 'train samples')\n",
        "print(x_test.shape[0], 'test samples')\n",
        "y_train = keras.utils.to_categorical(y_train, num_classes)\n",
        "y_test = keras.utils.to_categorical(y_test, num_classes)\n",
        "\n",
        "model = Sequential()\n",
        "model.add(Dense(20, activation=LeakyReLU(), input_shape=(784,)))\n",
        "model.add(Dense(20, activation=LeakyReLU()))\n",
        "model.add(Dense(10, activation='softmax'))\n",
        "model.summary()\n",
        "\n",
        "model.compile(loss='categorical_crossentropy',\n",
        "              optimizer=RMSprop(),\n",
        "              metrics=['accuracy'])\n",
        "\n",
        "history = model.fit(x_train, y_train,\n",
        "                    batch_size=128,\n",
        "                    epochs=10,\n",
        "                    verbose=1,\n",
        "                    validation_data=(x_test, y_test))\n",
        "\n",
        "scores = model.evaluate(x_test, y_test)\n",
        "print(scores[1])"
      ],
      "execution_count": 2,
      "outputs": [
        {
          "output_type": "stream",
          "text": [
            "60000 train samples\n",
            "10000 test samples\n"
          ],
          "name": "stdout"
        },
        {
          "output_type": "stream",
          "text": [
            "/usr/local/lib/python3.6/dist-packages/keras/activations.py:235: UserWarning: Do not pass a layer instance (such as LeakyReLU) as the activation argument of another layer. Instead, advanced activation layers should be used just like any other layer in a model.\n",
            "  identifier=identifier.__class__.__name__))\n"
          ],
          "name": "stderr"
        },
        {
          "output_type": "stream",
          "text": [
            "Model: \"sequential_1\"\n",
            "_________________________________________________________________\n",
            "Layer (type)                 Output Shape              Param #   \n",
            "=================================================================\n",
            "dense_1 (Dense)              (None, 20)                15700     \n",
            "_________________________________________________________________\n",
            "dense_2 (Dense)              (None, 20)                420       \n",
            "_________________________________________________________________\n",
            "dense_3 (Dense)              (None, 10)                210       \n",
            "=================================================================\n",
            "Total params: 16,330\n",
            "Trainable params: 16,330\n",
            "Non-trainable params: 0\n",
            "_________________________________________________________________\n",
            "Train on 60000 samples, validate on 10000 samples\n",
            "Epoch 1/10\n",
            "60000/60000 [==============================] - 1s 23us/step - loss: 0.5562 - accuracy: 0.8473 - val_loss: 0.3053 - val_accuracy: 0.9141\n",
            "Epoch 2/10\n",
            "60000/60000 [==============================] - 1s 19us/step - loss: 0.2864 - accuracy: 0.9184 - val_loss: 0.2584 - val_accuracy: 0.9241\n",
            "Epoch 3/10\n",
            "60000/60000 [==============================] - 1s 19us/step - loss: 0.2478 - accuracy: 0.9290 - val_loss: 0.2345 - val_accuracy: 0.9332\n",
            "Epoch 4/10\n",
            "60000/60000 [==============================] - 1s 18us/step - loss: 0.2223 - accuracy: 0.9365 - val_loss: 0.2320 - val_accuracy: 0.9290\n",
            "Epoch 5/10\n",
            "60000/60000 [==============================] - 1s 17us/step - loss: 0.2021 - accuracy: 0.9421 - val_loss: 0.1997 - val_accuracy: 0.9410\n",
            "Epoch 6/10\n",
            "60000/60000 [==============================] - 1s 18us/step - loss: 0.1883 - accuracy: 0.9459 - val_loss: 0.1863 - val_accuracy: 0.9463\n",
            "Epoch 7/10\n",
            "60000/60000 [==============================] - 1s 17us/step - loss: 0.1764 - accuracy: 0.9490 - val_loss: 0.1831 - val_accuracy: 0.9465\n",
            "Epoch 8/10\n",
            "60000/60000 [==============================] - 1s 18us/step - loss: 0.1673 - accuracy: 0.9520 - val_loss: 0.1731 - val_accuracy: 0.9491\n",
            "Epoch 9/10\n",
            "60000/60000 [==============================] - 1s 17us/step - loss: 0.1591 - accuracy: 0.9533 - val_loss: 0.1671 - val_accuracy: 0.9504\n",
            "Epoch 10/10\n",
            "60000/60000 [==============================] - 1s 18us/step - loss: 0.1520 - accuracy: 0.9556 - val_loss: 0.1694 - val_accuracy: 0.9509\n",
            "10000/10000 [==============================] - 0s 20us/step\n",
            "0.9509000182151794\n"
          ],
          "name": "stdout"
        }
      ]
    }
  ]
}